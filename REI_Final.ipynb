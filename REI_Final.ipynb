{
  "nbformat": 4,
  "nbformat_minor": 0,
  "metadata": {
    "colab": {
      "name": "REI_Final.ipynb",
      "provenance": [],
      "collapsed_sections": []
    },
    "kernelspec": {
      "name": "python3",
      "display_name": "Python 3"
    },
    "language_info": {
      "name": "python"
    }
  },
  "cells": [
    {
      "cell_type": "code",
      "metadata": {
        "id": "6sroaGb65J-O"
      },
      "source": [
        "import os\n",
        "import pandas as pd\n",
        "import numpy as np\n",
        "import seaborn as sns\n",
        "import matplotlib.pyplot as plt\n",
        "import cv2\n",
        "from tqdm import tqdm\n",
        "from sklearn.model_selection import train_test_split\n",
        "import tensorflow as tf\n",
        "import gc\n",
        "from keras.models import Sequential,model_from_json\n",
        "from keras.layers import Dense, Dropout, Conv2D, MaxPool2D, Flatten,Input,Activation,BatchNormalization,MaxPooling2D\n",
        "from keras.callbacks import ReduceLROnPlateau, ModelCheckpoint, EarlyStopping, LearningRateScheduler, CSVLogger\n",
        "%load_ext tensorboard\n",
        "import datetime\n",
        "from tensorflow.keras.models import Model\n",
        "from prettytable import PrettyTable\n",
        "import prettytable\n",
        "import warnings\n",
        "from sklearn.metrics import confusion_matrix\n",
        "from sklearn.metrics import accuracy_score\n",
        "\n",
        "warnings.filterwarnings(\"ignore\")"
      ],
      "execution_count": 2,
      "outputs": []
    },
    {
      "cell_type": "code",
      "metadata": {
        "id": "9GcJqk-A8PBo"
      },
      "source": [
        "def predict_class(class_index):\n",
        "  if(class_index==0):\n",
        "    return 'backyard'\n",
        "  elif(class_index==1):\n",
        "    return 'bathroom'\n",
        "  elif(class_index==2):\n",
        "    return 'bedroom'\n",
        "  elif(class_index==3):\n",
        "    return 'frontyard'\n",
        "  elif(class_index==4):\n",
        "    return 'kitchen'\n",
        "  else:\n",
        "     return 'livingRoom'"
      ],
      "execution_count": 3,
      "outputs": []
    },
    {
      "cell_type": "code",
      "metadata": {
        "id": "xhlV3K9M6IxL"
      },
      "source": [
        "X_test=pd.read_pickle('/content/drive/MyDrive/CASE_STUDIES/CASE_STUDY_2/Pickle_Files/X_test_image_input_data_latest.pkl')"
      ],
      "execution_count": 4,
      "outputs": []
    },
    {
      "cell_type": "code",
      "metadata": {
        "colab": {
          "base_uri": "https://localhost:8080/"
        },
        "id": "j1p5yygn7o3h",
        "outputId": "59583554-d1f0-4736-8605-4a70f39f5318"
      },
      "source": [
        "  # load json and create model\n",
        "  json_file = open(\"/content/drive/MyDrive/CASE_STUDIES/CASE_STUDY_2/Pickle_Files/EfficientNetB5_model.json\", 'r')\n",
        "  loaded_model_json = json_file.read()\n",
        "  json_file.close()\n",
        "  loaded_model = model_from_json(loaded_model_json)\n",
        "  # load weights into new model\n",
        "  loaded_model.load_weights(\"/content/drive/MyDrive/CASE_STUDIES/CASE_STUDY_2/Pickle_Files/EfficientNetB5_model.h5\")"
      ],
      "execution_count": 5,
      "outputs": [
        {
          "output_type": "stream",
          "name": "stderr",
          "text": [
            "2021-09-16 05:56:25.587889: E tensorflow/stream_executor/cuda/cuda_driver.cc:271] failed call to cuInit: CUDA_ERROR_NO_DEVICE: no CUDA-capable device is detected\n",
            "2021-09-16 05:56:25.587944: I tensorflow/stream_executor/cuda/cuda_diagnostics.cc:156] kernel driver does not appear to be running on this host (613ab32cf086): /proc/driver/nvidia/version does not exist\n"
          ]
        }
      ]
    },
    {
      "cell_type": "code",
      "metadata": {
        "colab": {
          "base_uri": "https://localhost:8080/"
        },
        "id": "3YBp4iD2-ABc",
        "outputId": "13e5b94c-07f3-4732-bad1-01df9b8f319b"
      },
      "source": [
        "%%writefile REIClassification.py\n",
        "import os\n",
        "import pandas as pd\n",
        "import numpy as np\n",
        "import tensorflow as tf\n",
        "from keras.models import Sequential,model_from_json\n",
        "from keras.layers import Dense, Dropout, Conv2D, MaxPool2D, Flatten,Input,Activation,BatchNormalization,MaxPooling2D\n",
        "from keras.callbacks import ReduceLROnPlateau, ModelCheckpoint, EarlyStopping, LearningRateScheduler, CSVLogger\n",
        "import streamlit as st\n",
        "\n",
        "st.title(\"Real Estate Image Classification\")\n",
        "\n",
        "X_test=pd.read_pickle('/content/drive/MyDrive/CASE_STUDIES/CASE_STUDY_2/Pickle_Files/X_test_image_input_data_latest.pkl')\n",
        "json_file = open(\"/content/drive/MyDrive/CASE_STUDIES/CASE_STUDY_2/Pickle_Files/EfficientNetB5_model.json\", 'r')\n",
        "loaded_model_json = json_file.read()\n",
        "json_file.close()\n",
        "loaded_model = model_from_json(loaded_model_json)\n",
        "loaded_model.load_weights(\"/content/drive/MyDrive/CASE_STUDIES/CASE_STUDY_2/Pickle_Files/EfficientNetB5_model.h5\")\n",
        "\n",
        "def final_fun_1(selected_image='bedroom (419)'):\n",
        "  image_data=X_test[X_test['image_name'].values==selected_image]['image_data'].values[0]\n",
        "  pred_prob=loaded_model.predict(image_data)  \n",
        "  return predict_class(np.argmax(pred_prob))\n",
        "\n",
        "def predict_class(class_index):\n",
        "  if(class_index==0):\n",
        "    return 'backyard'\n",
        "  elif(class_index==1):\n",
        "    return 'bathroom'\n",
        "  elif(class_index==2):\n",
        "    return 'bedroom'\n",
        "  elif(class_index==3):\n",
        "    return 'frontyard'\n",
        "  elif(class_index==4):\n",
        "    return 'kitchen'\n",
        "  else:\n",
        "     return 'livingRoom'  \n",
        "\n",
        "\n",
        "\n",
        "image_select = st.selectbox('Select Image: ',X_test['image_name'].values)\n",
        "image_selection_msg=st.text('You have selected image: '+image_select)\n",
        "st.image(X_test[X_test['image_name'].values==image_select]['image_data'].values[0])\n",
        "if st.button('Predict Image Class'):\n",
        "    image_predicted_class=final_fun_1(image_select)\n",
        "    st.write('Image Name: '+image_select)\n",
        "    st.write(\"Image Predicted Class: \"+str(image_predicted_class))"
      ],
      "execution_count": 38,
      "outputs": [
        {
          "output_type": "stream",
          "name": "stdout",
          "text": [
            "Overwriting REIClassification.py\n"
          ]
        }
      ]
    },
    {
      "cell_type": "code",
      "metadata": {
        "id": "cNBapxA06Ici"
      },
      "source": [
        "def final_func_2(image_data,image_class): \n",
        "    test_pred=[]\n",
        "    for row in image_data:\n",
        "        test_pred.append(predict_class(np.argmax(loaded_model.predict(row))))\n",
        "    \n",
        "    print(\"Accuracy: \",accuracy_score(image_class, test_pred))"
      ],
      "execution_count": 9,
      "outputs": []
    },
    {
      "cell_type": "code",
      "metadata": {
        "colab": {
          "base_uri": "https://localhost:8080/"
        },
        "id": "6D7-8joh8m_s",
        "outputId": "f8a8903f-ff8c-4dd1-b880-32135a17ac7a"
      },
      "source": [
        "final_func_2(X_test['image_data'],X_test['image_class'])"
      ],
      "execution_count": 11,
      "outputs": [
        {
          "output_type": "stream",
          "name": "stdout",
          "text": [
            "Accuracy:  0.9027303754266212\n"
          ]
        }
      ]
    },
    {
      "cell_type": "code",
      "metadata": {
        "id": "Z-4cSidIKOs3"
      },
      "source": [
        "!pip install streamlit\n",
        "#!pip install pyngrok\n",
        "!pip install pyngrok==4.1.1"
      ],
      "execution_count": 38,
      "outputs": []
    },
    {
      "cell_type": "code",
      "metadata": {
        "colab": {
          "base_uri": "https://localhost:8080/"
        },
        "id": "80x4P798KdYf",
        "outputId": "081db538-0095-46d6-c5e3-5be7b2243e1b"
      },
      "source": [
        "!ngrok authtoken 1x9kwOjrkR7yzIeRHqtYdnNdIrW_2gitL4cy88GMoTcqKnqK9"
      ],
      "execution_count": 39,
      "outputs": [
        {
          "output_type": "stream",
          "name": "stdout",
          "text": [
            "Authtoken saved to configuration file: /root/.ngrok2/ngrok.yml\n"
          ]
        }
      ]
    },
    {
      "cell_type": "code",
      "metadata": {
        "colab": {
          "base_uri": "https://localhost:8080/",
          "height": 35
        },
        "id": "wSgLWL30Kn14",
        "outputId": "5fb74e61-288d-4e5e-e5c5-ee13b3f3bcda"
      },
      "source": [
        "from pyngrok import ngrok\n",
        "# Setup a tunnel to the streamlit port 8501\n",
        "public_url = ngrok.connect(port='8501')\n",
        "public_url"
      ],
      "execution_count": 39,
      "outputs": [
        {
          "output_type": "execute_result",
          "data": {
            "application/vnd.google.colaboratory.intrinsic+json": {
              "type": "string"
            },
            "text/plain": [
              "'http://c42c-34-90-220-75.ngrok.io'"
            ]
          },
          "metadata": {},
          "execution_count": 39
        }
      ]
    },
    {
      "cell_type": "code",
      "metadata": {
        "colab": {
          "base_uri": "https://localhost:8080/"
        },
        "id": "DEgovV6BKuxP",
        "outputId": "6bb343b1-0297-454b-ecc4-d511cbab9c2a"
      },
      "source": [
        "!streamlit run --server.port 8501 REIClassification.py >/dev/null"
      ],
      "execution_count": 40,
      "outputs": [
        {
          "output_type": "stream",
          "name": "stdout",
          "text": [
            "2021-09-16 07:32:09.212821: E tensorflow/stream_executor/cuda/cuda_driver.cc:271] failed call to cuInit: CUDA_ERROR_NO_DEVICE: no CUDA-capable device is detected\n",
            "2021-09-16 07:32:09.212891: I tensorflow/stream_executor/cuda/cuda_diagnostics.cc:156] kernel driver does not appear to be running on this host (613ab32cf086): /proc/driver/nvidia/version does not exist\n",
            "2021-09-16 07:34:01.464622: I tensorflow/compiler/mlir/mlir_graph_optimization_pass.cc:185] None of the MLIR Optimization Passes are enabled (registered 2)\n"
          ]
        }
      ]
    }
  ]
}